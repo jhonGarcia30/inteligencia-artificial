{
  "cells": [
    {
      "cell_type": "markdown",
      "metadata": {
        "id": "view-in-github",
        "colab_type": "text"
      },
      "source": [
        "<a href=\"https://colab.research.google.com/github/jhonGarcia30/inteligencia-artificial/blob/main/trabajoIAtc.ipynb\" target=\"_parent\"><img src=\"https://colab.research.google.com/assets/colab-badge.svg\" alt=\"Open In Colab\"/></a>"
      ]
    },
    {
      "cell_type": "code",
      "source": [
        "import numpy as np\n",
        "\n",
        "# Verificar la versión de numpy\n",
        "print(np.__version__)\n",
        "\n",
        "\n"
      ],
      "metadata": {
        "colab": {
          "base_uri": "https://localhost:8080/"
        },
        "id": "8RJBqNhXP7tp",
        "outputId": "0a0cce81-a09c-4bbb-8fb8-59ab04a14d0e"
      },
      "execution_count": null,
      "outputs": [
        {
          "output_type": "stream",
          "name": "stdout",
          "text": [
            "1.25.2\n"
          ]
        }
      ]
    },
    {
      "cell_type": "code",
      "source": [
        "import numpy as np\n",
        "\n",
        "# Crear un array unidimensional de números del 0 al 9\n",
        "array_1d = np.arange(10)\n",
        "print(array_1d)\n",
        "\n"
      ],
      "metadata": {
        "colab": {
          "base_uri": "https://localhost:8080/"
        },
        "id": "SlfkfaR_QBUR",
        "outputId": "929c3eaf-5255-4e62-fcba-012943ff74b1"
      },
      "execution_count": null,
      "outputs": [
        {
          "output_type": "stream",
          "name": "stdout",
          "text": [
            "[0 1 2 3 4 5 6 7 8 9]\n"
          ]
        }
      ]
    },
    {
      "cell_type": "code",
      "source": [
        "import numpy as np\n",
        "\n",
        "# Crear un vector aleatorio de tamaño 10\n",
        "random_vector = np.random.rand(10)\n",
        "print(\"Vector aleatorio original:\", random_vector)\n",
        "\n",
        "# Reemplazar el valor máximo en el vector por 0\n",
        "random_vector[random_vector.argmax()] = 0\n",
        "print(\"Vector después de reemplazar el valor máximo por 0:\", random_vector)\n"
      ],
      "metadata": {
        "colab": {
          "base_uri": "https://localhost:8080/"
        },
        "id": "N7OyZ-EBQESf",
        "outputId": "e29dbd4e-4bb2-4c6b-b5f0-048bc888add1"
      },
      "execution_count": null,
      "outputs": [
        {
          "output_type": "stream",
          "name": "stdout",
          "text": [
            "Vector aleatorio original: [0.79993207 0.28196677 0.30593506 0.57516955 0.74458541 0.16408828\n",
            " 0.80529664 0.68384442 0.77027291 0.27853368]\n",
            "Vector después de reemplazar el valor máximo por 0: [0.79993207 0.28196677 0.30593506 0.57516955 0.74458541 0.16408828\n",
            " 0.         0.68384442 0.77027291 0.27853368]\n"
          ]
        }
      ]
    },
    {
      "cell_type": "code",
      "source": [
        "import numpy as np\n",
        "\n",
        "# Array dado\n",
        "arr = np.array([[1, 2, 3, 4, 5], [6, 7, 8, 9, 10]])\n",
        "\n",
        "# Imprimir el número 8\n",
        "number_8 = arr[1, 2]\n",
        "print(number_8)\n"
      ],
      "metadata": {
        "colab": {
          "base_uri": "https://localhost:8080/"
        },
        "id": "p_62zYdUQEQP",
        "outputId": "2581f5a7-201c-420c-b558-52e2fd42d8bf"
      },
      "execution_count": null,
      "outputs": [
        {
          "output_type": "stream",
          "name": "stdout",
          "text": [
            "8\n"
          ]
        }
      ]
    },
    {
      "cell_type": "code",
      "source": [
        "import numpy as np\n",
        "\n",
        "# Dado de matriz\n",
        "arr = np.array([1, 2, 3, 4, 5, 6, 7])\n",
        "\n",
        "# Imprimir los números [3, 4, 5]\n",
        "subset = arr[2:5]\n",
        "print(subset)\n"
      ],
      "metadata": {
        "colab": {
          "base_uri": "https://localhost:8080/"
        },
        "id": "2Uyo_mWzQEN6",
        "outputId": "ff22764d-16ea-47cd-d9c4-81b8e9702e75"
      },
      "execution_count": null,
      "outputs": [
        {
          "output_type": "stream",
          "name": "stdout",
          "text": [
            "[3 4 5]\n"
          ]
        }
      ]
    },
    {
      "cell_type": "code",
      "source": [
        "import numpy as np\n",
        "\n",
        "# Dado de matriz\n",
        "arr = np.array([1, 2, 3, 4, 5, 6, 7])\n",
        "\n",
        "# Imprimir los últimos 4 números\n",
        "last_four_numbers = arr[-4:]\n",
        "print(last_four_numbers)\n"
      ],
      "metadata": {
        "colab": {
          "base_uri": "https://localhost:8080/"
        },
        "id": "QmKAjHPYQELS",
        "outputId": "c9894a81-330a-4053-94b4-cb954183ccbe"
      },
      "execution_count": null,
      "outputs": [
        {
          "output_type": "stream",
          "name": "stdout",
          "text": [
            "[4 5 6 7]\n"
          ]
        }
      ]
    },
    {
      "cell_type": "code",
      "source": [
        "import numpy as np\n",
        "\n",
        "# Crear un array de 3x3 con todos los valores True\n",
        "array_true = np.full((3, 3), True)\n",
        "print(array_true)\n"
      ],
      "metadata": {
        "colab": {
          "base_uri": "https://localhost:8080/"
        },
        "id": "rIAyWOUzQEIb",
        "outputId": "18d7bebc-96f9-4251-cd35-28ad6baae63a"
      },
      "execution_count": null,
      "outputs": [
        {
          "output_type": "stream",
          "name": "stdout",
          "text": [
            "[[ True  True  True]\n",
            " [ True  True  True]\n",
            " [ True  True  True]]\n"
          ]
        }
      ]
    },
    {
      "cell_type": "code",
      "source": [
        "import numpy as np\n",
        "\n",
        "# Dado de matriz\n",
        "arr = np.array([1, 2, 3, 4, 5, 6, 7, 8, 9, 10])\n",
        "\n",
        "# Extraer todos los números impares\n",
        "odd_numbers = arr[arr % 2 != 0]\n",
        "print(odd_numbers)"
      ],
      "metadata": {
        "colab": {
          "base_uri": "https://localhost:8080/"
        },
        "id": "maZ7BnoeQEFx",
        "outputId": "e98d1dd6-5d22-4852-9617-b1baec6198b2"
      },
      "execution_count": null,
      "outputs": [
        {
          "output_type": "stream",
          "name": "stdout",
          "text": [
            "[1 3 5 7 9]\n"
          ]
        }
      ]
    },
    {
      "cell_type": "code",
      "source": [
        "import numpy as np\n",
        "\n",
        "# Crear un vector con valores del 10 al 49\n",
        "vector = np.arange(10, 50)\n",
        "print(vector)\n"
      ],
      "metadata": {
        "colab": {
          "base_uri": "https://localhost:8080/"
        },
        "id": "tVl146ODQECs",
        "outputId": "97a8faec-b5b9-49cb-bbac-714168a3fd68"
      },
      "execution_count": null,
      "outputs": [
        {
          "output_type": "stream",
          "name": "stdout",
          "text": [
            "[10 11 12 13 14 15 16 17 18 19 20 21 22 23 24 25 26 27 28 29 30 31 32 33\n",
            " 34 35 36 37 38 39 40 41 42 43 44 45 46 47 48 49]\n"
          ]
        }
      ]
    },
    {
      "cell_type": "code",
      "source": [
        "def reverse_vector(vector):\n",
        "    return vector[::-1]\n",
        "\n",
        "# Ejemplo:\n",
        "original_vector = [1, 2, 3, 4, 5]\n",
        "reversed_vector = reverse_vector(original_vector)\n",
        "print(\"Original:\", original_vector)\n",
        "print(\"Invertido:\", reversed_vector)"
      ],
      "metadata": {
        "colab": {
          "base_uri": "https://localhost:8080/"
        },
        "id": "dGc5Pb1LQD_p",
        "outputId": "3618262a-13e6-41b7-d923-b4139f27be5f"
      },
      "execution_count": null,
      "outputs": [
        {
          "output_type": "stream",
          "name": "stdout",
          "text": [
            "Original: [1, 2, 3, 4, 5]\n",
            "Invertido: [5, 4, 3, 2, 1]\n"
          ]
        }
      ]
    },
    {
      "cell_type": "code",
      "source": [
        "import numpy as np\n",
        "\n",
        "# Uuna matriz de 10x10 con valores enteros aleatorios entre 0 y 100\n",
        "array = np.random.randint(0, 101, size=(10, 10))\n",
        "\n",
        "# Encuentra valores mínimos y máximos.\n",
        "min_value = np.min(array)\n",
        "max_value = np.max(array)\n",
        "\n",
        "print(\"Array:\")\n",
        "print(array)\n",
        "print(\"\\nMinimum value:\", min_value)\n",
        "print(\"Maximum value:\", max_value)\n",
        "\n"
      ],
      "metadata": {
        "colab": {
          "base_uri": "https://localhost:8080/"
        },
        "id": "yncZ_jN8QD8I",
        "outputId": "a0fc423f-35ce-4cb5-8096-49718b7b2e6c"
      },
      "execution_count": null,
      "outputs": [
        {
          "output_type": "stream",
          "name": "stdout",
          "text": [
            "Array:\n",
            "[[37 82 94 20  3 39 62 31  4 26]\n",
            " [98  4 94 33 40 99 48 28 53 27]\n",
            " [97 43 79 62 61 56 21 75  5  0]\n",
            " [95  0 34  3 10 13 88 33 26  6]\n",
            " [46 55 40 44 91 43 20  8 42 49]\n",
            " [74 46 30 37  7 80 25 46 11 46]\n",
            " [27 10 47  1  8 80 86 93 80 39]\n",
            " [ 0 76 54 68 73 22 93 13 72 78]\n",
            " [38 42 30 83  2  9 83 38 24  4]\n",
            " [44 72 17 34 66 75 37 31 10 87]]\n",
            "\n",
            "Minimum value: 0\n",
            "Maximum value: 99\n"
          ]
        }
      ]
    },
    {
      "cell_type": "code",
      "source": [
        "import numpy as np\n",
        "\n",
        "# Una matriz de 3x3x3 con valores aleatorios\n",
        "array = np.random.rand(3, 3, 3)\n",
        "\n",
        "print(\"Matriz 3x3x3 con valores aleatorios:\")\n",
        "print(array)\n"
      ],
      "metadata": {
        "colab": {
          "base_uri": "https://localhost:8080/"
        },
        "id": "TeLyIISSQD3h",
        "outputId": "b16e284b-f890-42e9-a662-7759eb84c59f"
      },
      "execution_count": null,
      "outputs": [
        {
          "output_type": "stream",
          "name": "stdout",
          "text": [
            "Matriz 3x3x3 con valores aleatorios:\n",
            "[[[0.40695467 0.61969247 0.22187333]\n",
            "  [0.22942819 0.64076289 0.24951707]\n",
            "  [0.41777918 0.71541718 0.27625459]]\n",
            "\n",
            " [[0.80174535 0.67366771 0.12508203]\n",
            "  [0.70538798 0.45617565 0.40596315]\n",
            "  [0.09298935 0.68017773 0.8039743 ]]\n",
            "\n",
            " [[0.7982543  0.4232854  0.04920325]\n",
            "  [0.82045196 0.40054061 0.5250214 ]\n",
            "  [0.78654227 0.37108078 0.81903706]]]\n"
          ]
        }
      ]
    },
    {
      "cell_type": "code",
      "source": [
        "import numpy as np\n",
        "\n",
        "# Matriz de ejemplo\n",
        "arr = np.array([[1, 2, 3],\n",
        "                [4, 5, 6],\n",
        "                [7, 8, 9]])\n",
        "\n",
        "# Reemplazar números impares con -1\n",
        "arr[arr % 2 != 0] = -1\n",
        "\n",
        "print(\"Matriz modificada:\")\n",
        "print(arr)\n",
        "\n"
      ],
      "metadata": {
        "colab": {
          "base_uri": "https://localhost:8080/"
        },
        "id": "ihdVFxjFQD0f",
        "outputId": "6d41cad2-9fa8-42f3-e386-5ac79ec8a9a9"
      },
      "execution_count": null,
      "outputs": [
        {
          "output_type": "stream",
          "name": "stdout",
          "text": [
            "Matriz modificada:\n",
            "[[-1  2 -1]\n",
            " [ 4 -1  6]\n",
            " [-1  8 -1]]\n"
          ]
        }
      ]
    },
    {
      "cell_type": "code",
      "source": [
        "import numpy as np\n",
        "\n",
        "# Crea una matriz de tipo float\n",
        "arr = np.array([[1, 2, 3],\n",
        "                [4, 5, 6],\n",
        "                [7, 8, 9]], dtype=float)\n",
        "\n",
        "print(\"Matriz de tipo flotante:\")\n",
        "print(arr)\n"
      ],
      "metadata": {
        "colab": {
          "base_uri": "https://localhost:8080/"
        },
        "id": "j6tzV8XlQDrS",
        "outputId": "0ab3a05b-e361-48e9-f31c-46e676978043"
      },
      "execution_count": null,
      "outputs": [
        {
          "output_type": "stream",
          "name": "stdout",
          "text": [
            "Matriz de tipo flotante:\n",
            "[[1. 2. 3.]\n",
            " [4. 5. 6.]\n",
            " [7. 8. 9.]]\n"
          ]
        }
      ]
    },
    {
      "cell_type": "code",
      "source": [
        "import numpy as np\n",
        "\n",
        "# Ejemplo de matriz 1D\n",
        "arr_1d = np.array([1, 2, 3, 4, 5, 6])\n",
        "\n",
        "# Convertir a una matriz 2D con 2 filas\n",
        "arr_2d = arr_1d.reshape(2, -1)  # -1 en remodelación infiere la dimensión restante\n",
        "\n",
        "print(\"Original 1D matriz:\")\n",
        "print(arr_1d)\n",
        "print(\"\\nMatriz 2D convertida con 2 filas:\")\n",
        "print(arr_2d)\n"
      ],
      "metadata": {
        "colab": {
          "base_uri": "https://localhost:8080/"
        },
        "id": "5lVOvPMIQDQ3",
        "outputId": "9570cc27-24c1-4045-db2c-adfdd877a04c"
      },
      "execution_count": null,
      "outputs": [
        {
          "output_type": "stream",
          "name": "stdout",
          "text": [
            "Original 1D matriz:\n",
            "[1 2 3 4 5 6]\n",
            "\n",
            "Matriz 2D convertida con 2 filas:\n",
            "[[1 2 3]\n",
            " [4 5 6]]\n"
          ]
        }
      ]
    },
    {
      "cell_type": "code",
      "source": [
        "import numpy as np\n",
        "\n",
        "# Matrices de ejemplo\n",
        "Z1 = np.random.randint(0, 10, 10)\n",
        "Z2 = np.random.randint(0, 10, 10)\n",
        "\n",
        "# Encuentre valores comunes entre Z1 y Z2\n",
        "common_values = np.intersect1d(Z1, Z2)\n",
        "\n",
        "print(\"Matriz Z1:\", Z1)\n",
        "print(\"Matriz Z2:\", Z2)\n",
        "print(\"\\nValores comunes entre Z1 y Z2:\", common_values)"
      ],
      "metadata": {
        "colab": {
          "base_uri": "https://localhost:8080/"
        },
        "id": "uKLJSxXwQ_Us",
        "outputId": "e4f69ead-d6b9-4445-9ff4-6692d74c6cfc"
      },
      "execution_count": null,
      "outputs": [
        {
          "output_type": "stream",
          "name": "stdout",
          "text": [
            "Matriz Z1: [0 1 1 4 5 0 4 4 6 4]\n",
            "Matriz Z2: [7 7 3 2 5 3 1 7 1 3]\n",
            "\n",
            "Valores comunes entre Z1 y Z2: [1 5]\n"
          ]
        }
      ]
    },
    {
      "cell_type": "code",
      "source": [
        "import numpy as np\n",
        "\n",
        "# Generar matrices aleatorias A y B\n",
        "A = np.random.randint(0, 2, 5)\n",
        "B = np.random.randint(0, 2, 5)\n",
        "\n",
        "# Compruebe si las matrices A y B son iguales\n",
        "are_equal = np.array_equal(A, B)\n",
        "\n",
        "print(\"Matriz A:\", A)\n",
        "print(\"Matriz B:\", B)\n",
        "\n",
        "if are_equal:\n",
        "    print(\"\\nLas matrices A y B son iguales.\")\n",
        "else:\n",
        "    print(\"\\nLas matrices A y B no son iguales.\")\n",
        "\n"
      ],
      "metadata": {
        "colab": {
          "base_uri": "https://localhost:8080/"
        },
        "id": "ye0y4-KPQ_Np",
        "outputId": "a775c4eb-8e82-4b23-ae74-a8d73197fcff"
      },
      "execution_count": null,
      "outputs": [
        {
          "output_type": "stream",
          "name": "stdout",
          "text": [
            "Matriz A: [1 0 0 1 0]\n",
            "Matriz B: [1 0 1 1 1]\n",
            "\n",
            "Las matrices A y B no son iguales.\n"
          ]
        }
      ]
    },
    {
      "cell_type": "code",
      "source": [
        "import numpy as np\n",
        "\n",
        "# Matrices de ejemplo\n",
        "a = np.array([[1, 2, 3],\n",
        "              [4, 5, 6]])\n",
        "\n",
        "b = np.array([[7, 8, 9],\n",
        "              [10, 11, 12]])\n",
        "\n",
        "# Apilar matrices a y b verticalmente\n",
        "stacked_array = np.vstack((a, b))\n",
        "\n",
        "print(\"Matriz a:\")\n",
        "print(a)\n",
        "print(\"\\nMatriz b:\")\n",
        "print(b)\n",
        "print(\"\\nMatriz apilada verticalmente:\")\n",
        "print(stacked_array)\n",
        "\n"
      ],
      "metadata": {
        "colab": {
          "base_uri": "https://localhost:8080/"
        },
        "id": "va41c_CJQ-7r",
        "outputId": "3ffee1ce-df33-45b9-cb9b-4a051d46217c"
      },
      "execution_count": null,
      "outputs": [
        {
          "output_type": "stream",
          "name": "stdout",
          "text": [
            "Matriz a:\n",
            "[[1 2 3]\n",
            " [4 5 6]]\n",
            "\n",
            "Matriz b:\n",
            "[[ 7  8  9]\n",
            " [10 11 12]]\n",
            "\n",
            "Matriz apilada verticalmente:\n",
            "[[ 1  2  3]\n",
            " [ 4  5  6]\n",
            " [ 7  8  9]\n",
            " [10 11 12]]\n"
          ]
        }
      ]
    },
    {
      "cell_type": "code",
      "source": [
        "import numpy as np\n",
        "\n",
        "# Matrices de ejemplo\n",
        "a = np.array([[1, 2],\n",
        "              [3, 4]])\n",
        "\n",
        "b = np.array([[5, 6],\n",
        "              [7, 8]])\n",
        "\n",
        "# Apilar las matrices a y b horizontalmente\n",
        "stacked_array = np.hstack((a, b))\n",
        "\n",
        "print(\"Matriz a:\")\n",
        "print(a)\n",
        "print(\"\\nMatriz b:\")\n",
        "print(b)\n",
        "print(\"\\nMatriz apilada horizontalmente:\")\n",
        "print(stacked_array)\n"
      ],
      "metadata": {
        "colab": {
          "base_uri": "https://localhost:8080/"
        },
        "id": "5K7dNrYeRPH0",
        "outputId": "20fe2bfc-5a83-496e-b34d-9ea38a6af9e2"
      },
      "execution_count": null,
      "outputs": [
        {
          "output_type": "stream",
          "name": "stdout",
          "text": [
            "Matriz a:\n",
            "[[1 2]\n",
            " [3 4]]\n",
            "\n",
            "Matriz b:\n",
            "[[5 6]\n",
            " [7 8]]\n",
            "\n",
            "Matriz apilada horizontalmente:\n",
            "[[1 2 5 6]\n",
            " [3 4 7 8]]\n"
          ]
        }
      ]
    },
    {
      "cell_type": "code",
      "source": [
        "import numpy as np\n",
        "\n",
        "tmp = np.arange(15)\n",
        "\n",
        "# Consigue artículos entre 5 y 10\n",
        "result = tmp[(tmp > 5) & (tmp < 10)]\n",
        "\n",
        "print(\"Matriz original tmp:\")\n",
        "print(tmp)\n",
        "print(\"\\nArtículos entre 5 y 10:\")\n",
        "print(result)\n"
      ],
      "metadata": {
        "colab": {
          "base_uri": "https://localhost:8080/"
        },
        "id": "LzZcKXgYRPCG",
        "outputId": "09d595b0-63bd-4ed2-916e-4112bdb152b4"
      },
      "execution_count": null,
      "outputs": [
        {
          "output_type": "stream",
          "name": "stdout",
          "text": [
            "Matriz original tmp:\n",
            "[ 0  1  2  3  4  5  6  7  8  9 10 11 12 13 14]\n",
            "\n",
            "Artículos entre 5 y 10:\n",
            "[6 7 8 9]\n"
          ]
        }
      ]
    },
    {
      "cell_type": "code",
      "source": [
        "import numpy as np\n",
        "\n",
        "def pair_max(x, y):\n",
        "    \"\"\"Obtenga el máximo de elementos de dos matrices\"\"\"\n",
        "    return np.maximum(x, y)\n",
        "\n",
        "# Ejemplo:\n",
        "a = np.array([5, 7, 9, 8, 6, 4, 5])\n",
        "b = np.array([6, 3, 4, 8, 9, 7, 1])\n",
        "\n",
        "result = pair_max(a, b)\n",
        "print(result)\n"
      ],
      "metadata": {
        "colab": {
          "base_uri": "https://localhost:8080/"
        },
        "id": "F8ef8qx8RO6k",
        "outputId": "d01a3abf-4dd7-4f9d-e15e-c77f255d8cb6"
      },
      "execution_count": null,
      "outputs": [
        {
          "output_type": "stream",
          "name": "stdout",
          "text": [
            "[6 7 9 8 9 7 5]\n"
          ]
        }
      ]
    },
    {
      "cell_type": "code",
      "source": [
        "import numpy as np\n",
        "\n",
        "arr = np.arange(9).reshape(3, 3)\n",
        "print(\"Original matriz:\")\n",
        "print(arr)\n",
        "\n",
        "# Intercambiar columnas 1 y 2\n",
        "arr[:, [1, 2]] = arr[:, [2, 1]]\n",
        "\n",
        "print(\"\\nMatriz después de intercambiar las columnas 1 y 2:\")\n",
        "print(arr)\n"
      ],
      "metadata": {
        "colab": {
          "base_uri": "https://localhost:8080/"
        },
        "id": "9z8c1X6RRc-W",
        "outputId": "55e56a1d-f1fc-4f51-c07a-38ed88e24ce9"
      },
      "execution_count": null,
      "outputs": [
        {
          "output_type": "stream",
          "name": "stdout",
          "text": [
            "Original matriz:\n",
            "[[0 1 2]\n",
            " [3 4 5]\n",
            " [6 7 8]]\n",
            "\n",
            "Matriz después de intercambiar las columnas 1 y 2:\n",
            "[[0 2 1]\n",
            " [3 5 4]\n",
            " [6 8 7]]\n"
          ]
        }
      ]
    },
    {
      "cell_type": "code",
      "source": [
        "import numpy as np\n",
        "\n",
        "# Genere una matriz de 5x3 de números decimales aleatorios entre 5 y 10\n",
        "arr = np.random.uniform(5, 10, size=(5, 3))\n",
        "\n",
        "print(\"Matriz aleatoria de 5x3 entre 5 y 10:\")\n",
        "print(arr)"
      ],
      "metadata": {
        "colab": {
          "base_uri": "https://localhost:8080/"
        },
        "id": "vYFrnybuRkbU",
        "outputId": "3b5e9ddc-9915-4fa7-9566-cb4bdb1e8b47"
      },
      "execution_count": null,
      "outputs": [
        {
          "output_type": "stream",
          "name": "stdout",
          "text": [
            "Matriz aleatoria de 5x3 entre 5 y 10:\n",
            "[[8.56978801 9.03188632 5.26661053]\n",
            " [9.83478135 9.78667195 7.41111792]\n",
            " [9.26850657 5.18296201 7.77968614]\n",
            " [7.88894263 5.849757   7.86620747]\n",
            " [7.7902802  7.61945647 7.71285029]]\n"
          ]
        }
      ]
    }
  ],
  "metadata": {
    "colab": {
      "name": "Te damos la bienvenida a Colaboratory",
      "toc_visible": true,
      "provenance": [],
      "include_colab_link": true
    },
    "kernelspec": {
      "display_name": "Python 3",
      "name": "python3"
    }
  },
  "nbformat": 4,
  "nbformat_minor": 0
}