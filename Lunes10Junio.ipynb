{
  "cells": [
    {
      "cell_type": "markdown",
      "metadata": {
        "id": "view-in-github",
        "colab_type": "text"
      },
      "source": [
        "<a href=\"https://colab.research.google.com/github/jhonGarcia30/inteligencia-artificial/blob/main/Lunes10Junio.ipynb\" target=\"_parent\"><img src=\"https://colab.research.google.com/assets/colab-badge.svg\" alt=\"Open In Colab\"/></a>"
      ]
    },
    {
      "cell_type": "code",
      "source": [
        "!Python --version"
      ],
      "metadata": {
        "id": "o4p3I0rHx3co",
        "outputId": "8aacc463-61a8-462d-be1c-38077649467a",
        "colab": {
          "base_uri": "https://localhost:8080/"
        }
      },
      "execution_count": 5,
      "outputs": [
        {
          "output_type": "stream",
          "name": "stdout",
          "text": [
            "/bin/bash: line 1: Python: command not found\n"
          ]
        }
      ]
    },
    {
      "cell_type": "code",
      "source": [
        "myNumber =3\n",
        "myNumberDecimal =3.6\n",
        "state = True"
      ],
      "metadata": {
        "id": "EFTe8h3FyCH3"
      },
      "execution_count": 6,
      "outputs": []
    },
    {
      "cell_type": "code",
      "source": [
        "print(f'valor entero: {myNumber}')\n",
        "print(f'valor decimal: {myNumberDecimal}')\n",
        "print(f'valor booleano: {state}')"
      ],
      "metadata": {
        "id": "BGPRP3-6yEqN",
        "outputId": "21159d81-379a-41df-a9aa-42a7103313ff",
        "colab": {
          "base_uri": "https://localhost:8080/"
        }
      },
      "execution_count": 7,
      "outputs": [
        {
          "output_type": "stream",
          "name": "stdout",
          "text": [
            "valor entero: 3\n",
            "valor decimal: 3.6\n",
            "valor booleano: True\n"
          ]
        }
      ]
    },
    {
      "cell_type": "code",
      "source": [
        "aux1 = 10\n",
        "aux2 = 2\n",
        "print(\"La suma de las variables es:\", aux1+aux2)"
      ],
      "metadata": {
        "id": "HtfgfHaDyHcT",
        "outputId": "d54416de-39ca-4f77-c47f-1867685e2531",
        "colab": {
          "base_uri": "https://localhost:8080/"
        }
      },
      "execution_count": 8,
      "outputs": [
        {
          "output_type": "stream",
          "name": "stdout",
          "text": [
            "La suma de las variables es: 12\n"
          ]
        }
      ]
    },
    {
      "cell_type": "code",
      "source": [
        "tmp = aux1**aux2\n",
        "print(\"Resultado de la potencia es: \", tmp)"
      ],
      "metadata": {
        "id": "_E_Z-xrUyJJn",
        "outputId": "2127a3fd-f80b-4d78-f361-a5e3b8886f0b",
        "colab": {
          "base_uri": "https://localhost:8080/"
        }
      },
      "execution_count": 9,
      "outputs": [
        {
          "output_type": "stream",
          "name": "stdout",
          "text": [
            "Resultado de la potencia es:  100\n"
          ]
        }
      ]
    },
    {
      "cell_type": "code",
      "source": [
        "var1 = 'Hola!'\n",
        "var2 = ' Jhon '\n",
        "print(var1+var2)"
      ],
      "metadata": {
        "id": "cD91NmDoyJHN",
        "outputId": "52e316fd-5322-46c4-9e20-c007b56ab6d6",
        "colab": {
          "base_uri": "https://localhost:8080/"
        }
      },
      "execution_count": 11,
      "outputs": [
        {
          "output_type": "stream",
          "name": "stdout",
          "text": [
            "Hola! Jhon \n"
          ]
        }
      ]
    },
    {
      "cell_type": "code",
      "source": [
        "print(3*var1)\n",
        ""
      ],
      "metadata": {
        "id": "QQjxwvdUyJEy",
        "outputId": "92606360-ad47-409f-dea8-f7946e525ad1",
        "colab": {
          "base_uri": "https://localhost:8080/"
        }
      },
      "execution_count": 12,
      "outputs": [
        {
          "output_type": "stream",
          "name": "stdout",
          "text": [
            "Hola!Hola!Hola!\n"
          ]
        }
      ]
    },
    {
      "cell_type": "code",
      "source": [
        "num1 = 10\n",
        "num2 = 10.5"
      ],
      "metadata": {
        "id": "mSewWx4QyJCh"
      },
      "execution_count": 13,
      "outputs": []
    },
    {
      "cell_type": "code",
      "source": [
        "print('El tipo de numero es: ',type(num1))\n",
        "print('El tipo de numero es: ',type(num2))"
      ],
      "metadata": {
        "id": "JRSH5l03yI_o",
        "outputId": "b88fbd4e-d4de-4c71-a51a-c6c3bc96d6b4",
        "colab": {
          "base_uri": "https://localhost:8080/"
        }
      },
      "execution_count": 14,
      "outputs": [
        {
          "output_type": "stream",
          "name": "stdout",
          "text": [
            "El tipo de numero es:  <class 'int'>\n",
            "El tipo de numero es:  <class 'float'>\n"
          ]
        }
      ]
    },
    {
      "cell_type": "code",
      "source": [
        "# tmp = list()\n",
        "# tmp.append(2)\n",
        "# print(tmp)\n",
        "# tmp.append('Jhon ')\n",
        "# print(tmp)\n",
        "# tmp.append(5)\n",
        "# print(tmp)\n",
        "# tmp.append('Garcia')\n",
        "# print(tmp)\n",
        "# print(tmp[3])\n",
        "# aux= tmp[3]\n",
        "# print(aux.upper())\n",
        "\n",
        "# tmp1= 'hello'\n",
        "# print(tmp1.capitalize())\n",
        "\n",
        "\n",
        "# aux1=[1,2,3,4,5,6,7,8,9,10]\n",
        "# print(aux1)\n",
        "\n",
        "# aux1[4]=10\n",
        "# print(aux1)\n",
        "\n",
        "\n",
        "# print(aux1[-1])\n",
        "# print(aux1[3:7])\n",
        "# print(aux1[0:5])\n",
        "# print(aux1[:5])\n",
        "\n",
        "\n",
        "# aux2=list()\n",
        "# for i in range(100):\n",
        "#   aux2.append(i)\n",
        "# print(aux2[:20])\n",
        "\n",
        "\n",
        "\n",
        "# aux3=list()\n",
        "# for indx, elem in enumerate(aux2):\n",
        "#   if aux2[indx]%2==0:\n",
        "#     aux3.append(aux2[indx])\n",
        "\n",
        "# print(aux3)\n",
        "\n",
        "\n",
        "# aux3=list()\n",
        "# for indx, elem in enumerate(aux2):\n",
        "#   if aux2[indx]%2==1:\n",
        "#     aux3.append(aux2[indx])\n",
        "\n",
        "# print(aux3)\n",
        "\n",
        "\n",
        "# aux3=list()\n",
        "# for indx, elem in enumerate(aux2):\n",
        "#   if aux2[indx]%2==0:\n",
        "#     aux3.append(aux2[indx]**2)\n",
        "\n",
        "# print(aux3)\n",
        "\n",
        "\n",
        "animal=['gato', 'perro', 'mono', 'raton']\n",
        "for animal in animal:\n",
        "  print(animal)\n",
        "\n",
        "\n",
        "tmp3 = [i**2 for i in range(10)]\n",
        "print(tmp3)\n",
        "\n",
        "tmp3 = [i**2 for i in range(10) if i%2==0]\n",
        "print(tmp3)"
      ],
      "metadata": {
        "id": "NiMW0QXdyI2o",
        "outputId": "520e9697-0265-4c8e-eb36-1126ccfbb94b",
        "colab": {
          "base_uri": "https://localhost:8080/"
        }
      },
      "execution_count": 16,
      "outputs": [
        {
          "output_type": "stream",
          "name": "stdout",
          "text": [
            "gato\n",
            "perro\n",
            "mono\n",
            "raton\n",
            "[0, 1, 4, 9, 16, 25, 36, 49, 64, 81]\n",
            "[0, 4, 16, 36, 64]\n"
          ]
        }
      ]
    },
    {
      "cell_type": "code",
      "source": [
        "myDictionay={'gato': 'bonito', 'perro': 'grande'}\n",
        "print(myDictionay['gato'])\n",
        "\n",
        "myDictionay1={'leon': 'fuerte', 'agila': 'pequeña'}\n",
        "print(myDictionay1['leon'])\n",
        "\n",
        "myDictionay.update(myDictionay1)\n",
        "print(myDictionay)\n",
        "\n",
        "for key, value in myDictionay.items():\n",
        "  print(f'key: {key} value: {value}')\n",
        "\n",
        "\n",
        "myList=[1,2,3,4,5,6]\n",
        "myDictAux1 = {x:x**2 for x in myList}\n",
        "print(myDictAux1)\n"
      ],
      "metadata": {
        "id": "PJ1AD-JCyYu5",
        "outputId": "d6dae1e2-2937-43ce-ef38-6ae9d848d8c3",
        "colab": {
          "base_uri": "https://localhost:8080/"
        }
      },
      "execution_count": 17,
      "outputs": [
        {
          "output_type": "stream",
          "name": "stdout",
          "text": [
            "bonito\n",
            "fuerte\n",
            "{'gato': 'bonito', 'perro': 'grande', 'leon': 'fuerte', 'agila': 'pequeña'}\n",
            "key: gato value: bonito\n",
            "key: perro value: grande\n",
            "key: leon value: fuerte\n",
            "key: agila value: pequeña\n",
            "{1: 1, 2: 4, 3: 9, 4: 16, 5: 25, 6: 36}\n"
          ]
        }
      ]
    },
    {
      "cell_type": "code",
      "source": [
        "def operacion(var1, var2, operador):\n",
        "    if operador == 'suma':\n",
        "        resultado = var1 + var2\n",
        "    elif operador == 'resta':\n",
        "        resultado = var1 - var2\n",
        "\n",
        "    return resultado\n",
        "\n",
        "num1 = 3\n",
        "num2 = 6\n",
        "cadena = 'resta'\n",
        "\n",
        "resultado = operacion(num1, num2, cadena)\n",
        "\n",
        "print(f\"El resultado de la {cadena} es: {resultado}\")\n",
        "\n",
        "\n",
        "\n",
        "def suma(var1, var2, flag):\n",
        "  if flag==True:\n",
        "    tmp=var1+var2\n",
        "  else:\n",
        "    tmp=var1-var2\n",
        "  return tmp\n",
        "\n",
        "num1 =4\n",
        "num2 = 6\n",
        "control = False\n",
        "print(suma(num1, num2, control))\n",
        "\n",
        "\n",
        "listNumeros = [-1, +1, 0]\n",
        "def numero_positivo_negativo(num):\n",
        "    if num > 0:\n",
        "        print(f\"El número {num} es positivo.\")\n",
        "    elif num < 0:\n",
        "        print(f\"El número {num} es negativo.\")\n",
        "    else:\n",
        "        print(\"El número es cero.\")\n",
        "\n",
        "\n",
        "print(numero_positivo_negativo(listNumeros[2]))"
      ],
      "metadata": {
        "id": "FRZNFgdbyYsm",
        "outputId": "6cdad3d8-86b6-4403-fe2e-e1e3647e5b32",
        "colab": {
          "base_uri": "https://localhost:8080/"
        }
      },
      "execution_count": 18,
      "outputs": [
        {
          "output_type": "stream",
          "name": "stdout",
          "text": [
            "El resultado de la resta es: -3\n",
            "-2\n",
            "El número es cero.\n",
            "None\n"
          ]
        }
      ]
    },
    {
      "cell_type": "code",
      "source": [
        "var1 =set()\n",
        "var1.add(3)\n",
        "print(var1)\n",
        "var1.add('Jhon')\n",
        "var1.add(True)\n",
        "var1.add('Hola')\n",
        "print(var1)\n",
        "var1.remove('Hola')\n",
        "print(var1)\n",
        "\n",
        "print(len(var1))\n",
        "\n",
        "print(3 in var1)\n",
        "\n",
        "for elem in var1:\n",
        "  print(elem)"
      ],
      "metadata": {
        "id": "kIObjIONyYqY",
        "outputId": "d0fab3b7-53b2-4e2e-cc4d-0b2640496853",
        "colab": {
          "base_uri": "https://localhost:8080/"
        }
      },
      "execution_count": 20,
      "outputs": [
        {
          "output_type": "stream",
          "name": "stdout",
          "text": [
            "{3}\n",
            "{True, 3, 'Hola', 'Jhon'}\n",
            "{True, 3, 'Jhon'}\n",
            "3\n",
            "True\n",
            "True\n",
            "3\n",
            "Jhon\n"
          ]
        }
      ]
    },
    {
      "cell_type": "code",
      "source": [
        "#JUPLES\n",
        "\n",
        "var2 = tuple()\n",
        "\n",
        "# Crear una nueva tupla con elementos adicionales\n",
        "var2 = var2 + ('como', 1, True)\n",
        "print(var2)\n",
        "print(type(var2))\n",
        "\n",
        "var2_lista = list(var2)\n",
        "var2_lista.remove('como')\n",
        "print(var2_lista)\n",
        "print(type(var2_lista))\n",
        "\n",
        "\n",
        "\n",
        "#aux[2]=300\n",
        "#var=tuple(aux)\n",
        "#print(var)\n",
        "#print(type(var))"
      ],
      "metadata": {
        "id": "hEKGO_cFyYoF",
        "outputId": "fe8883b3-8024-4a29-936d-ac4a09e630a7",
        "colab": {
          "base_uri": "https://localhost:8080/"
        }
      },
      "execution_count": 21,
      "outputs": [
        {
          "output_type": "stream",
          "name": "stdout",
          "text": [
            "('como', 1, True)\n",
            "<class 'tuple'>\n",
            "[1, True]\n",
            "<class 'list'>\n"
          ]
        }
      ]
    },
    {
      "cell_type": "code",
      "source": [
        "#HOY TO DEFINE CLASS\n",
        "class saludo(object):\n",
        "  def __init__(self, name):\n",
        "    print(\"El objeto a sido creado\")\n",
        "    self.name=name\n",
        "\n",
        "  def saludoPersonal(self):\n",
        "    return f\"Hola, {self.name}\"\n",
        "\n",
        "\n",
        "name1= saludo('Alexander')\n",
        "name2= saludo('Aksuya')\n",
        "name3= saludo('1234')\n",
        "\n",
        "print(name1.saludoPersonal())"
      ],
      "metadata": {
        "id": "4mb2bFU3yYhj",
        "outputId": "02d60731-a317-47b6-eee9-63bda4d63fb2",
        "colab": {
          "base_uri": "https://localhost:8080/"
        }
      },
      "execution_count": 22,
      "outputs": [
        {
          "output_type": "stream",
          "name": "stdout",
          "text": [
            "El objeto a sido creado\n",
            "El objeto a sido creado\n",
            "El objeto a sido creado\n",
            "Hola, Alexander\n"
          ]
        }
      ]
    },
    {
      "cell_type": "code",
      "source": [
        "#ESTA CLASE TIENE QUE ACEPTAR TRES PARAMETROS: RADIO, BASE Y LA ALTURA. UNA FUNCION PARA CALCULAR EL AREA DE UN CIRCULO, Y UN TRIANGULO.\n",
        "\n",
        "import math\n",
        "\n",
        "class FigurasGeometricas:\n",
        "    def __init__(self, radio, base, altura):\n",
        "        self.radio = radio\n",
        "        self.base = base\n",
        "        self.altura = altura\n",
        "\n",
        "    def calcular_area_circulo(self):\n",
        "        area_circulo = math.pi * self.radio ** 2\n",
        "        return area_circulo\n",
        "\n",
        "    def calcular_area_triangulo(self):\n",
        "        area_triangulo = (self.base * self.altura) / 2\n",
        "        return area_triangulo\n",
        "\n",
        "    def calcular_area_cuadrado(self):\n",
        "        area_cuadrado = (self.altura * self.altura)\n",
        "        return area_cuadrado\n",
        "\n",
        "\n",
        "figura = FigurasGeometricas(radio=5, base=6, altura=4)\n",
        "\n",
        "area_circulo = figura.calcular_area_circulo()\n",
        "print(f\"El área del círculo es: {area_circulo:.2f}\")\n",
        "\n",
        "area_triangulo = figura.calcular_area_triangulo()\n",
        "print(f\"El área del triángulo es: {area_triangulo:.2f}\")\n",
        "\n",
        "area_cuadrado = figura.calcular_area_cuadrado()\n",
        "print(f\"El área del cuadrado es: {area_cuadrado:.2f}\")"
      ],
      "metadata": {
        "id": "2MUydKdJzHfQ",
        "outputId": "1a2ed87c-da85-4e7b-9007-6d9c176463da",
        "colab": {
          "base_uri": "https://localhost:8080/"
        }
      },
      "execution_count": 23,
      "outputs": [
        {
          "output_type": "stream",
          "name": "stdout",
          "text": [
            "El área del círculo es: 78.54\n",
            "El área del triángulo es: 12.00\n",
            "El área del cuadrado es: 16.00\n"
          ]
        }
      ]
    },
    {
      "cell_type": "code",
      "source": [
        "# clase que permita dos valores, nombre y edad. Dentro de esa clase debe tener una funcion que imprima todo en mayuscula y otra funcion que sea todo en minusculas.\n",
        "\n",
        "class printingNameAge(object):\n",
        "  def __init__(self, name, age):\n",
        "     self.name = name\n",
        "     self.age = age\n",
        "     print(f\"El objeto a sido creado\")\n",
        "\n",
        "  def uppercase(self):\n",
        "    return f\"Nombre: {self.name.upper()} y el año: {self.age}\"\n",
        "\n",
        "student1 = printingNameAge('Oliver', 30)\n",
        "\n",
        "print(student1.uppercase())\n",
        ""
      ],
      "metadata": {
        "id": "gUMaQdWyzHdb",
        "outputId": "637065bb-abcd-4cd8-8dd5-d4c83b3b07ca",
        "colab": {
          "base_uri": "https://localhost:8080/"
        }
      },
      "execution_count": 24,
      "outputs": [
        {
          "output_type": "stream",
          "name": "stdout",
          "text": [
            "El objeto a sido creado\n",
            "Nombre: OLIVER y el año: 30\n"
          ]
        }
      ]
    },
    {
      "cell_type": "code",
      "source": [
        "#Crear una clase para sumar, restar, multiplicar y dividir.\n",
        "\n",
        "class Calculadora:\n",
        "    def sumar(self, a, b):\n",
        "        return a + b\n",
        "\n",
        "    def restar(self, a, b):\n",
        "        return a - b\n",
        "\n",
        "    def multiplicar(self, a, b):\n",
        "        return a * b\n",
        "\n",
        "    def dividir(self, a, b):\n",
        "        if b == 0:\n",
        "            raise ValueError(\"Error: No se puede dividir por cero.\")\n",
        "        return a / b\n",
        "\n",
        "    def es_par(self, numero):\n",
        "        if numero % 2 == 0:\n",
        "            return \"Par\"\n",
        "        else:\n",
        "            return \"Impar\"\n",
        "\n",
        "\n",
        "calculadora = Calculadora()\n",
        "\n",
        "resultado_suma = calculadora.sumar(2, 2)\n",
        "resultado_resta = calculadora.restar(6, 7)\n",
        "\n",
        "print(f\"La suma es: {resultado_suma} El Resultado es: {calculadora.es_par(resultado_suma)}\")\n",
        "print(f\"La resta es: {resultado_resta} El Resultado es: {calculadora.es_par(resultado_resta)}\")"
      ],
      "metadata": {
        "id": "wAjB0Rh6zHbC",
        "outputId": "aa7a84f8-3b2c-453f-cd35-7aa949cced70",
        "colab": {
          "base_uri": "https://localhost:8080/"
        }
      },
      "execution_count": 25,
      "outputs": [
        {
          "output_type": "stream",
          "name": "stdout",
          "text": [
            "La suma es: 4 El Resultado es: Par\n",
            "La resta es: -1 El Resultado es: Impar\n"
          ]
        }
      ]
    }
  ],
  "metadata": {
    "colab": {
      "name": "Te damos la bienvenida a Colaboratory",
      "toc_visible": true,
      "provenance": [],
      "include_colab_link": true
    },
    "kernelspec": {
      "display_name": "Python 3",
      "name": "python3"
    }
  },
  "nbformat": 4,
  "nbformat_minor": 0
}