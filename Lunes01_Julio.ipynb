{
  "cells": [
    {
      "cell_type": "markdown",
      "metadata": {
        "id": "view-in-github",
        "colab_type": "text"
      },
      "source": [
        "<a href=\"https://colab.research.google.com/github/jhonGarcia30/inteligencia-artificial/blob/main/Lunes01_Julio.ipynb\" target=\"_parent\"><img src=\"https://colab.research.google.com/assets/colab-badge.svg\" alt=\"Open In Colab\"/></a>"
      ]
    },
    {
      "cell_type": "code",
      "source": [
        "import numpy as algebraLineal\n",
        "\n",
        "\n",
        "a = algebraLineal.array([11,22,33])\n",
        "print(a.shape)\n",
        "print(type(a))\n",
        "print(a)\n",
        "\n",
        "print(a[:2])\n",
        "print(a[1:3])\n",
        "\n",
        "\n",
        "a[1]=88\n",
        "print(a)\n",
        "\n"
      ],
      "metadata": {
        "id": "RXPLnGtsvEyG",
        "outputId": "7a20a0a1-0149-47d1-e45d-4ee3c2747c2b",
        "colab": {
          "base_uri": "https://localhost:8080/"
        }
      },
      "execution_count": null,
      "outputs": [
        {
          "output_type": "stream",
          "name": "stdout",
          "text": [
            "(3,)\n",
            "<class 'numpy.ndarray'>\n",
            "[11 22 33]\n",
            "[11 22]\n",
            "[22 33]\n",
            "[11 88 33]\n"
          ]
        }
      ]
    },
    {
      "cell_type": "code",
      "source": [
        "from re import sub\n",
        "#dos dimensiones\n",
        "\n",
        "import numpy as np\n",
        "\n",
        "b=np.array([[1,2,3],[11,22,33], [111,222,333]])\n",
        "print(b.shape)\n",
        "print(type(b))\n",
        "print(b)\n",
        "\n",
        "print(b[1,1])\n",
        "\n",
        "submatriz = b[1:3, 1:3].copy()\n",
        "print(submatriz.shape)\n",
        "print(\"antes\")\n",
        "print(submatriz)\n",
        "\n",
        "submatriz[1]=88\n",
        "print(\"despues\")\n",
        "print(submatriz)\n",
        "print(b)\n"
      ],
      "metadata": {
        "colab": {
          "base_uri": "https://localhost:8080/"
        },
        "id": "lEguC7ePvd6u",
        "outputId": "9dab5d03-0a91-4230-d7e2-c84f72be2264"
      },
      "execution_count": 1,
      "outputs": [
        {
          "output_type": "stream",
          "name": "stdout",
          "text": [
            "(3, 3)\n",
            "<class 'numpy.ndarray'>\n",
            "[[  1   2   3]\n",
            " [ 11  22  33]\n",
            " [111 222 333]]\n",
            "22\n",
            "(2, 2)\n",
            "antes\n",
            "[[ 22  33]\n",
            " [222 333]]\n",
            "despues\n",
            "[[22 33]\n",
            " [88 88]]\n",
            "[[  1   2   3]\n",
            " [ 11  22  33]\n",
            " [111 222 333]]\n"
          ]
        }
      ]
    },
    {
      "cell_type": "code",
      "source": [
        "#matriz de dos dimensiones con el modulo zero\n",
        "import numpy as np\n",
        "\n",
        "c=np.zeros((4,4))\n",
        "print(c)\n",
        "print(c.shape)\n",
        "d=np.full((4,4),9)\n",
        "print(d)"
      ],
      "metadata": {
        "colab": {
          "base_uri": "https://localhost:8080/"
        },
        "id": "jUQXujSCvnMI",
        "outputId": "ff09db98-2a44-4c54-f136-21961194c16e"
      },
      "execution_count": 2,
      "outputs": [
        {
          "output_type": "stream",
          "name": "stdout",
          "text": [
            "[[0. 0. 0. 0.]\n",
            " [0. 0. 0. 0.]\n",
            " [0. 0. 0. 0.]\n",
            " [0. 0. 0. 0.]]\n",
            "(4, 4)\n",
            "[[9 9 9 9]\n",
            " [9 9 9 9]\n",
            " [9 9 9 9]\n",
            " [9 9 9 9]]\n"
          ]
        }
      ]
    },
    {
      "cell_type": "code",
      "source": [
        "#matriz con la diagonal que tenga como elemento la unidad\n",
        "\n",
        "e=np.eye(3,3)\n",
        "print(e)\n",
        "\n",
        "f=np.ones((4,5))\n",
        "print(f)"
      ],
      "metadata": {
        "colab": {
          "base_uri": "https://localhost:8080/"
        },
        "id": "7wdz7BIpvrAs",
        "outputId": "5a27f8fc-b590-4c61-83ae-9916764c1afd"
      },
      "execution_count": 3,
      "outputs": [
        {
          "output_type": "stream",
          "name": "stdout",
          "text": [
            "[[1. 0. 0.]\n",
            " [0. 1. 0.]\n",
            " [0. 0. 1.]]\n",
            "[[1. 1. 1. 1. 1.]\n",
            " [1. 1. 1. 1. 1.]\n",
            " [1. 1. 1. 1. 1.]\n",
            " [1. 1. 1. 1. 1.]]\n"
          ]
        }
      ]
    },
    {
      "cell_type": "code",
      "source": [
        "g=np.random.random((5,5))\n",
        "print(g)\n",
        "\n",
        "#crear una matriz aleatoria que solo contenga elementos enteros, sea de 4x3 y que contenga solo numeros hasta el 20\n",
        "\n",
        "matriz_aleatoria = np.random.randint(1, 21, size=(4, 3))\n",
        "print(matriz_aleatoria)"
      ],
      "metadata": {
        "colab": {
          "base_uri": "https://localhost:8080/"
        },
        "id": "KKOh1co8vs3h",
        "outputId": "438c568f-9f6c-4999-d65f-48ae68c4e228"
      },
      "execution_count": 4,
      "outputs": [
        {
          "output_type": "stream",
          "name": "stdout",
          "text": [
            "[[0.65703933 0.83290497 0.91661319 0.05232035 0.48130004]\n",
            " [0.35528233 0.3208904  0.75077101 0.59549499 0.51612284]\n",
            " [0.6517243  0.65941174 0.97479886 0.14820859 0.99861544]\n",
            " [0.86142    0.03364421 0.24148377 0.4019896  0.68195475]\n",
            " [0.96991866 0.68145517 0.3073014  0.94593683 0.92094079]]\n",
            "[[20  2 19]\n",
            " [16  6 20]\n",
            " [17 20  6]\n",
            " [ 7 14  9]]\n"
          ]
        }
      ]
    },
    {
      "cell_type": "code",
      "source": [
        "tmp1=np.random.randint(1,20, (4,4))\n",
        "print(tmp1)\n",
        "\n",
        "rows=np.array([0,1,2,0])\n",
        "cols=np.arange(4)\n",
        "\n",
        "print(rows)\n",
        "print(cols)"
      ],
      "metadata": {
        "colab": {
          "base_uri": "https://localhost:8080/"
        },
        "id": "wLZnYKz3v2rm",
        "outputId": "24329204-8374-4c6a-96e8-5e35118324d0"
      },
      "execution_count": 5,
      "outputs": [
        {
          "output_type": "stream",
          "name": "stdout",
          "text": [
            "[[ 9 18 15 11]\n",
            " [11 16  5  8]\n",
            " [ 8  4  7 19]\n",
            " [ 1  3  3 10]]\n",
            "[0 1 2 0]\n",
            "[0 1 2 3]\n"
          ]
        }
      ]
    },
    {
      "cell_type": "code",
      "source": [
        "tmp1[rows, cols]=100\n",
        "print(tmp1)\n"
      ],
      "metadata": {
        "colab": {
          "base_uri": "https://localhost:8080/"
        },
        "id": "1-VtyS6lv6Ws",
        "outputId": "8b59eb41-ca89-4a4e-c725-abf655b04bff"
      },
      "execution_count": 6,
      "outputs": [
        {
          "output_type": "stream",
          "name": "stdout",
          "text": [
            "[[100  18  15 100]\n",
            " [ 11 100   5   8]\n",
            " [  8   4 100  19]\n",
            " [  1   3   3  10]]\n"
          ]
        }
      ]
    },
    {
      "cell_type": "code",
      "source": [
        "#Matriz aleatoria de 6x6 pero que los elementos sean del 20 al 50\n",
        "\n",
        "\n",
        "tmp1=np.random.randint(20,50, (6,6))\n",
        "print(tmp1)"
      ],
      "metadata": {
        "colab": {
          "base_uri": "https://localhost:8080/"
        },
        "id": "ZZ4Bg7gEv-LJ",
        "outputId": "bc95ccd8-58ea-41af-89c8-3acff55ca8af"
      },
      "execution_count": 7,
      "outputs": [
        {
          "output_type": "stream",
          "name": "stdout",
          "text": [
            "[[23 32 47 30 35 44]\n",
            " [24 24 21 31 49 48]\n",
            " [48 34 26 37 24 47]\n",
            " [35 30 25 39 47 45]\n",
            " [38 46 40 36 39 23]\n",
            " [33 47 22 49 26 36]]\n"
          ]
        }
      ]
    },
    {
      "cell_type": "code",
      "source": [
        "filter = (tmp1 > 45)\n",
        "print(filter)\n",
        "print(tmp1[filter])"
      ],
      "metadata": {
        "colab": {
          "base_uri": "https://localhost:8080/"
        },
        "id": "F5hKKm6lwB8Q",
        "outputId": "3f1640b3-0e1c-4b3a-c0b8-f1a68d68baff"
      },
      "execution_count": 8,
      "outputs": [
        {
          "output_type": "stream",
          "name": "stdout",
          "text": [
            "[[False False  True False False False]\n",
            " [False False False False  True  True]\n",
            " [ True False False False False  True]\n",
            " [False False False False  True False]\n",
            " [False  True False False False False]\n",
            " [False  True False  True False False]]\n",
            "[47 49 48 48 47 47 46 47 49]\n"
          ]
        }
      ]
    },
    {
      "cell_type": "code",
      "source": [
        "#imprimir los números pares, los rangos pueden ser del 1 al 100\n",
        "\n",
        "tmp1=np.random.randint(1,100, (10,10))\n",
        "print(tmp1)"
      ],
      "metadata": {
        "colab": {
          "base_uri": "https://localhost:8080/"
        },
        "id": "rbh_yDSBwFHw",
        "outputId": "434daddd-de66-41e2-e6a6-5b41611c6483"
      },
      "execution_count": 9,
      "outputs": [
        {
          "output_type": "stream",
          "name": "stdout",
          "text": [
            "[[82 17 70 40 41  8 43 65 71 69]\n",
            " [22 75 46 40 62 16 90 33 47 40]\n",
            " [47  8 47 37 95 43 46 23 26 33]\n",
            " [36 21 77 90 21 77 19 16 64 24]\n",
            " [ 4 84  2 59 73 76 73 97 14  2]\n",
            " [79 59 29 29 96 82 53 76 21 93]\n",
            " [51  1 49 58 16 85 20 75 13 76]\n",
            " [12 82 10 99 29 46 51 79 80 22]\n",
            " [58 24 36 24 26 19 52 62 73 32]\n",
            " [32 46 71 98 96  4 81 29  8 78]]\n"
          ]
        }
      ]
    },
    {
      "cell_type": "code",
      "source": [
        "filter = (tmp1%2==0)\n",
        "print(filter)\n",
        "print(tmp1[filter])"
      ],
      "metadata": {
        "colab": {
          "base_uri": "https://localhost:8080/"
        },
        "id": "W9EAaZs2wI18",
        "outputId": "95c2f627-ed99-494e-eba7-e0a9e9281845"
      },
      "execution_count": 10,
      "outputs": [
        {
          "metadata": {
            "tags": null
          },
          "name": "stdout",
          "output_type": "stream",
          "text": [
            "[[ True False  True  True False  True False False False False]\n",
            " [ True False  True  True  True  True  True False False  True]\n",
            " [False  True False False False False  True False  True False]\n",
            " [ True False False  True False False False  True  True  True]\n",
            " [ True  True  True False False  True False False  True  True]\n",
            " [False False False False  True  True False  True False False]\n",
            " [False False False  True  True False  True False False  True]\n",
            " [ True  True  True False False  True False False  True  True]\n",
            " [ True  True  True  True  True False  True  True False  True]\n",
            " [ True  True False  True  True  True False False  True  True]]\n",
            "[82 70 40  8 22 46 40 62 16 90 40  8 46 26 36 90 16 64 24  4 84  2 76 14\n",
            "  2 96 82 76 58 16 20 76 12 82 10 46 80 22 58 24 36 24 26 52 62 32 32 46\n",
            " 98 96  4  8 78]\n"
          ]
        }
      ]
    },
    {
      "cell_type": "code",
      "source": [
        "\n",
        "tmp3 = np.array([1,2,3,4,5],dtype=np.float64)\n",
        "print(tmp3.dtype)"
      ],
      "metadata": {
        "colab": {
          "base_uri": "https://localhost:8080/"
        },
        "id": "XaRqw0-qwbfR",
        "outputId": "044ac3f5-a0a3-4507-e817-7cee94740e5f"
      },
      "execution_count": 11,
      "outputs": [
        {
          "output_type": "stream",
          "name": "stdout",
          "text": [
            "float64\n"
          ]
        }
      ]
    },
    {
      "cell_type": "code",
      "source": [
        "x=np.array([[1,2],[11,22]])\n",
        "y=np.array([[22,33],[44,55]])\n",
        "print(x)\n",
        "print(y)\n",
        "\n",
        "print(\"La suma\")\n",
        "print(np.add(x,y))\n",
        "print(\"La resta\")\n",
        "print(np.subtract(x,y))\n",
        "print(\"multiplicación\")\n",
        "print(np.multiply(x,y))\n",
        "print(\"División\")\n",
        "print(np.divide(x,y))\n",
        "print(\"raiz cuadrada\")\n",
        "print(np.sqrt(x))"
      ],
      "metadata": {
        "colab": {
          "base_uri": "https://localhost:8080/"
        },
        "id": "3W8HyWvMwdvZ",
        "outputId": "e051b205-2b8d-4b12-9cb0-6ddf08046ff6"
      },
      "execution_count": 12,
      "outputs": [
        {
          "output_type": "stream",
          "name": "stdout",
          "text": [
            "[[ 1  2]\n",
            " [11 22]]\n",
            "[[22 33]\n",
            " [44 55]]\n",
            "La suma\n",
            "[[23 35]\n",
            " [55 77]]\n",
            "La resta\n",
            "[[-21 -31]\n",
            " [-33 -33]]\n",
            "multiplicación\n",
            "[[  22   66]\n",
            " [ 484 1210]]\n",
            "División\n",
            "[[0.04545455 0.06060606]\n",
            " [0.25       0.4       ]]\n",
            "raiz cuadrada\n",
            "[[1.         1.41421356]\n",
            " [3.31662479 4.69041576]]\n"
          ]
        }
      ]
    },
    {
      "cell_type": "code",
      "source": [
        "tmp1=np.random.randint(1,10, (2,5))\n",
        "print(tmp1)\n",
        "#promedio\n",
        "aux = tmp1.mean()\n",
        "print(aux)"
      ],
      "metadata": {
        "colab": {
          "base_uri": "https://localhost:8080/"
        },
        "id": "0XR5yjw0wdsr",
        "outputId": "07cc8034-b4e8-4611-f9bb-8fd17d0101d4"
      },
      "execution_count": 13,
      "outputs": [
        {
          "output_type": "stream",
          "name": "stdout",
          "text": [
            "[[6 2 5 8 7]\n",
            " [8 8 2 1 2]]\n",
            "4.9\n"
          ]
        }
      ]
    },
    {
      "cell_type": "code",
      "source": [
        "print(tmp1.mean(axis=1))\n",
        "print(tmp1.mean(axis=0))"
      ],
      "metadata": {
        "colab": {
          "base_uri": "https://localhost:8080/"
        },
        "id": "QxJgxG7rwdlO",
        "outputId": "c3ccf802-6228-4afd-e95c-c84b6803122d"
      },
      "execution_count": 14,
      "outputs": [
        {
          "output_type": "stream",
          "name": "stdout",
          "text": [
            "[5.6 4.2]\n",
            "[7.  5.  3.5 4.5 4.5]\n"
          ]
        }
      ]
    },
    {
      "cell_type": "code",
      "source": [
        "import numpy as np\n",
        "a=np.random.randint(1,10,(3,4))\n",
        "print(a)\n",
        "tmp=np.mean(a)\n",
        "print(tmp)\n",
        "print(a.mean())\n",
        "tmp=a.mean(axis=1)\n",
        "print(tmp)\n",
        "\n",
        "aux=a.sum()\n",
        "print(aux)\n",
        "medianValue=np.median(a,axis=1)\n",
        "print(medianValue)"
      ],
      "metadata": {
        "colab": {
          "base_uri": "https://localhost:8080/"
        },
        "id": "HjJvYgeuwdcH",
        "outputId": "6d72c945-05dd-4784-fe05-f2e67fb497b3"
      },
      "execution_count": 15,
      "outputs": [
        {
          "output_type": "stream",
          "name": "stdout",
          "text": [
            "[[6 9 8 7]\n",
            " [4 1 7 9]\n",
            " [3 6 4 1]]\n",
            "5.416666666666667\n",
            "5.416666666666667\n",
            "[7.5  5.25 3.5 ]\n",
            "65\n",
            "[7.5 5.5 3.5]\n"
          ]
        }
      ]
    },
    {
      "cell_type": "code",
      "source": [
        "#SORTING\n",
        "b=np.random.randn(10)\n",
        "print(b)\n",
        "print(b.shape)\n",
        "b.sort()\n",
        "print(b)"
      ],
      "metadata": {
        "colab": {
          "base_uri": "https://localhost:8080/"
        },
        "id": "JPDYCMNcwn9Q",
        "outputId": "8fe7368d-871d-4555-c2d4-1ece16506072"
      },
      "execution_count": 16,
      "outputs": [
        {
          "output_type": "stream",
          "name": "stdout",
          "text": [
            "[ 1.20578458  0.40424088 -0.20801386 -0.05568992  2.11027575  0.40854793\n",
            "  0.50275825 -0.08767746  0.86142748  0.47125615]\n",
            "(10,)\n",
            "[-0.20801386 -0.08767746 -0.05568992  0.40424088  0.40854793  0.47125615\n",
            "  0.50275825  0.86142748  1.20578458  2.11027575]\n"
          ]
        }
      ]
    },
    {
      "cell_type": "code",
      "source": [
        "c=np.array([2,3,4,2,5,3,5])\n",
        "print(np.unique(c))"
      ],
      "metadata": {
        "colab": {
          "base_uri": "https://localhost:8080/"
        },
        "id": "p6iqi3krwn6r",
        "outputId": "266c8b2c-67c3-457f-a0fd-ec407ab08526"
      },
      "execution_count": 17,
      "outputs": [
        {
          "output_type": "stream",
          "name": "stdout",
          "text": [
            "[2 3 4 5]\n"
          ]
        }
      ]
    },
    {
      "cell_type": "code",
      "source": [
        "string1=np.array(['desk','chair','bulb'])\n",
        "string2=np.array(['lamp','bulb','chair'])\n",
        "\n",
        "tmp1=np.intersect1d(string1,string2)\n",
        "print(tmp1)\n",
        "tmp2=np.union1d(string1,string2)\n",
        "print(tmp2)\n",
        "tmp3=np.setdiff1d(string1,string2)\n",
        "print(tmp3)\n",
        "tmp4=np.in1d(string1,string2)\n",
        "print(tmp4)"
      ],
      "metadata": {
        "colab": {
          "base_uri": "https://localhost:8080/"
        },
        "id": "54ammlwXwnz6",
        "outputId": "34c70198-1bb0-4430-89a4-ff56186bd2eb"
      },
      "execution_count": 18,
      "outputs": [
        {
          "output_type": "stream",
          "name": "stdout",
          "text": [
            "['bulb' 'chair']\n",
            "['bulb' 'chair' 'desk' 'lamp']\n",
            "['desk']\n",
            "[False  True  True]\n"
          ]
        }
      ]
    },
    {
      "cell_type": "code",
      "source": [
        "#BROADCASTING\n",
        "\n",
        "aux=np.zeros((4,3))\n",
        "print(aux)\n",
        "replicate=np.array([1,2,1])\n",
        "aux=aux+replicate\n",
        "print(aux)\n",
        "\n",
        "replicateCol=np.array([10,10,10])\n",
        "print(replicateCol.shape)\n",
        "replicateCol=np.reshape(replicateCol,(3,1))\n",
        "print(replicateCol.shape)\n",
        "aux=np.zeros((3,3))\n",
        "aux1=replicateCol+aux\n",
        "print(aux1)\n",
        "\n",
        "print('we are here.........')\n",
        "vector=np.array([45])\n",
        "matrixZeros=np.zeros((5,5))\n",
        "print(matrixZeros)\n",
        "print(matrixZeros+vector)"
      ],
      "metadata": {
        "colab": {
          "base_uri": "https://localhost:8080/"
        },
        "id": "OCMyix1Mw4YO",
        "outputId": "f8cf0053-c75f-4bb9-a831-6375a6096cc5"
      },
      "execution_count": 19,
      "outputs": [
        {
          "output_type": "stream",
          "name": "stdout",
          "text": [
            "[[0. 0. 0.]\n",
            " [0. 0. 0.]\n",
            " [0. 0. 0.]\n",
            " [0. 0. 0.]]\n",
            "[[1. 2. 1.]\n",
            " [1. 2. 1.]\n",
            " [1. 2. 1.]\n",
            " [1. 2. 1.]]\n",
            "(3,)\n",
            "(3, 1)\n",
            "[[10. 10. 10.]\n",
            " [10. 10. 10.]\n",
            " [10. 10. 10.]]\n",
            "we are here.........\n",
            "[[0. 0. 0. 0. 0.]\n",
            " [0. 0. 0. 0. 0.]\n",
            " [0. 0. 0. 0. 0.]\n",
            " [0. 0. 0. 0. 0.]\n",
            " [0. 0. 0. 0. 0.]]\n",
            "[[45. 45. 45. 45. 45.]\n",
            " [45. 45. 45. 45. 45.]\n",
            " [45. 45. 45. 45. 45.]\n",
            " [45. 45. 45. 45. 45.]\n",
            " [45. 45. 45. 45. 45.]]\n"
          ]
        }
      ]
    }
  ],
  "metadata": {
    "colab": {
      "name": "Te damos la bienvenida a Colaboratory",
      "toc_visible": true,
      "provenance": [],
      "include_colab_link": true
    },
    "kernelspec": {
      "display_name": "Python 3",
      "name": "python3"
    }
  },
  "nbformat": 4,
  "nbformat_minor": 0
}